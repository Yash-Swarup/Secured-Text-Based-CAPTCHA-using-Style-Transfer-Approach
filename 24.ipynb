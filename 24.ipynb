{
 "cells": [
  {
   "cell_type": "markdown",
   "metadata": {
    "id": "rK1kaCKQyfa-"
   },
   "source": [
    "Nishank Bhowal - PES2UG22CS366\n",
    "Trisha Gupta - PES2UG22CS630\n",
    "Yash Swarup - PES2UG22CS676"
   ]
  },
  {
   "cell_type": "code",
   "execution_count": null,
   "metadata": {
    "id": "vuQepgRNlW3l"
   },
   "outputs": [],
   "source": [
    "import torch\n",
    "import torch.nn as nn\n",
    "import torch.optim as optim\n",
    "import torchvision\n",
    "import torchvision.transforms as transforms\n",
    "import time"
   ]
  },
  {
   "cell_type": "code",
   "execution_count": null,
   "metadata": {
    "id": "KlMApSeVmlgs"
   },
   "outputs": [],
   "source": [
    "device = torch.device(\"cuda\" if torch.cuda.is_available() else \"cpu\")"
   ]
  },
  {
   "cell_type": "code",
   "execution_count": null,
   "metadata": {
    "colab": {
     "base_uri": "https://localhost:8080/"
    },
    "id": "AYmSbU_7lvTA",
    "outputId": "948f4862-adea-4be3-f073-c457ec7f75a8"
   },
   "outputs": [
    {
     "name": "stdout",
     "output_type": "stream",
     "text": [
      "Files already downloaded and verified\n",
      "Files already downloaded and verified\n"
     ]
    }
   ],
   "source": [
    "transform_mnist = transforms.Compose([\n",
    "    transforms.Resize((224, 224)),  # Resize images to fit AlexNet input size\n",
    "    transforms.ToTensor(),\n",
    "])\n",
    "transform_cifar = transforms.Compose([\n",
    "    transforms.Resize((224, 224)),  # Resize CIFAR-10 images to 224x224\n",
    "    transforms.ToTensor(),\n",
    "])\n",
    "\n",
    "train_dataset_mnist = torchvision.datasets.MNIST(root='./data', train=True, transform=transform_mnist, download=True)\n",
    "test_dataset_mnist = torchvision.datasets.MNIST(root='./data', train=False, transform=transform_mnist, download=True)\n",
    "\n",
    "train_dataset_cifar = torchvision.datasets.CIFAR10(root='./data', train=True, transform=transform_cifar, download=True)\n",
    "test_dataset_cifar = torchvision.datasets.CIFAR10(root='./data', train=False, transform=transform_cifar, download=True)\n",
    "\n",
    "batch_size = 128\n",
    "train_loader_mnist = torch.utils.data.DataLoader(train_mnist, batch_size=batch_size, shuffle=True)\n",
    "test_loader_mnist = torch.utils.data.DataLoader(test_mnist, batch_size=batch_size, shuffle=False)\n",
    "train_loader_cifar = torch.utils.data.DataLoader(train_cifar, batch_size=batch_size, shuffle=True)\n",
    "test_loader_cifar = torch.utils.data.DataLoader(test_cifar, batch_size=batch_size, shuffle=False)\n",
    "\n",
    "# Cell 3: Define CNN Architectures"
   ]
  },
  {
   "cell_type": "code",
   "execution_count": null,
   "metadata": {
    "id": "H5TFb0mDl0hZ"
   },
   "outputs": [],
   "source": [
    "class LeNet5(nn.Module):\n",
    "    def __init__(self, in_channels):\n",
    "        super(LeNet5, self).__init__()\n",
    "        self.conv1 = nn.Conv2d(in_channels, 6, kernel_size=5, stride=1, padding=2)\n",
    "        self.conv2 = nn.Conv2d(6, 16, kernel_size=5)\n",
    "        self.fc1 = None  # Placeholder, will be defined later\n",
    "        self.fc2 = nn.Linear(120, 84)\n",
    "        self.fc3 = nn.Linear(84, 10)\n",
    "\n",
    "    def forward(self, x):\n",
    "        x = torch.relu(self.conv1(x))\n",
    "        x = torch.max_pool2d(x, 2)\n",
    "        x = torch.relu(self.conv2(x))\n",
    "        x = torch.max_pool2d(x, 2)\n",
    "        x = torch.flatten(x, start_dim=1)  # Flatten dynamically\n",
    "\n",
    "        # Dynamically initialize fc1\n",
    "        if self.fc1 is None:\n",
    "            self.fc1 = nn.Linear(x.shape[1], 120).to(x.device)\n",
    "\n",
    "        x = torch.relu(self.fc1(x))\n",
    "        x = torch.relu(self.fc2(x))\n",
    "        x = self.fc3(x)\n",
    "        return x\n",
    "\n"
   ]
  },
  {
   "cell_type": "code",
   "execution_count": null,
   "metadata": {
    "id": "YmrOBQ49l5zF"
   },
   "outputs": [],
   "source": [
    "class ResNet(nn.Module):\n",
    "    def __init__(self, num_classes=10, in_channels=3):\n",
    "        super(ResNet, self).__init__()\n",
    "        self.model = torchvision.models.resnet18(pretrained=False)\n",
    "        self.model.conv1 = nn.Conv2d(in_channels, 64, kernel_size=3, stride=1, padding=1, bias=False)\n",
    "        self.model.fc = nn.Linear(self.model.fc.in_features, num_classes)\n",
    "\n",
    "    def forward(self, x):\n",
    "        return self.model(x)\n"
   ]
  },
  {
   "cell_type": "code",
   "execution_count": null,
   "metadata": {
    "id": "uUYQ4xW1l9Mt"
   },
   "outputs": [],
   "source": [
    "def train_model(model, train_loader, test_loader, epochs=5):\n",
    "    model.to(device)\n",
    "    criterion = nn.CrossEntropyLoss()\n",
    "    optimizer = optim.Adam(model.parameters(), lr=0.001)\n",
    "    start_time = time.time()\n",
    "\n",
    "    for epoch in range(epochs):\n",
    "        model.train()\n",
    "        correct, total, running_loss = 0, 0, 0\n",
    "        for images, labels in train_loader:\n",
    "            images, labels = images.to(device), labels.to(device)\n",
    "            optimizer.zero_grad()\n",
    "            outputs = model(images)\n",
    "            loss = criterion(outputs, labels)\n",
    "            loss.backward()\n",
    "            optimizer.step()\n",
    "            running_loss += loss.item()\n",
    "            _, predicted = torch.max(outputs, 1)\n",
    "            total += labels.size(0)\n",
    "            correct += (predicted == labels).sum().item()\n",
    "\n",
    "        train_acc = 100 * correct / total\n",
    "        print(f\"Epoch [{epoch+1}/{epochs}], Loss: {running_loss:.4f}, Accuracy: {train_acc:.2f}%\")\n",
    "\n",
    "    end_time = time.time()\n",
    "    return train_acc, end_time - start_time"
   ]
  },
  {
   "cell_type": "code",
   "execution_count": null,
   "metadata": {
    "colab": {
     "base_uri": "https://localhost:8080/"
    },
    "id": "92vZj35zpnDX",
    "outputId": "7527abbd-661c-4fbd-c7e2-79554968f1aa"
   },
   "outputs": [
    {
     "name": "stdout",
     "output_type": "stream",
     "text": [
      "Training LeNet-5 on MNIST\n",
      "Epoch [1/5], Loss: 238.9399, Accuracy: 84.50%\n",
      "Epoch [2/5], Loss: 66.8160, Accuracy: 95.64%\n",
      "Epoch [3/5], Loss: 49.1241, Accuracy: 96.80%\n",
      "Epoch [4/5], Loss: 41.0682, Accuracy: 97.30%\n",
      "Epoch [5/5], Loss: 35.7002, Accuracy: 97.60%\n"
     ]
    }
   ],
   "source": [
    "print(\"Training LeNet-5 on MNIST\")\n",
    "model_mnist = LeNet5(in_channels=1)\n",
    "accuracy_mnist, train_time_mnist = train_model(model_mnist, train_loader_mnist, test_loader_mnist, epochs=5)\n",
    "num_params_mnist = sum(p.numel() for p in model_mnist.parameters())"
   ]
  },
  {
   "cell_type": "code",
   "execution_count": null,
   "metadata": {
    "colab": {
     "base_uri": "https://localhost:8080/"
    },
    "id": "1iIhQVgKqJTX",
    "outputId": "ce5211e0-2d10-498a-ed32-eb8b7151c4b7"
   },
   "outputs": [
    {
     "name": "stdout",
     "output_type": "stream",
     "text": [
      "Training LeNet-5 on CIFAR-10\n",
      "Epoch [1/5], Loss: 708.4304, Accuracy: 33.86%\n",
      "Epoch [2/5], Loss: 596.9119, Accuracy: 44.69%\n",
      "Epoch [3/5], Loss: 563.7840, Accuracy: 48.00%\n",
      "Epoch [4/5], Loss: 543.1040, Accuracy: 50.15%\n",
      "Epoch [5/5], Loss: 529.8309, Accuracy: 51.42%\n"
     ]
    }
   ],
   "source": [
    "print(\"Training LeNet-5 on CIFAR-10\")\n",
    "model_cifar = LeNet5(in_channels=3)\n",
    "accuracy_cifar, train_time_cifar = train_model(model_cifar, train_loader_cifar, test_loader_cifar, epochs=5)\n",
    "num_params_cifar = sum(p.numel() for p in model_cifar.parameters())"
   ]
  },
  {
   "cell_type": "code",
   "execution_count": null,
   "metadata": {
    "colab": {
     "base_uri": "https://localhost:8080/"
    },
    "id": "0NH6bKnBqRBc",
    "outputId": "865fdc30-0182-44c9-c47e-6fdb2228cc7f"
   },
   "outputs": [
    {
     "name": "stdout",
     "output_type": "stream",
     "text": [
      "Training ResNet on MNIST\n"
     ]
    },
    {
     "name": "stderr",
     "output_type": "stream",
     "text": [
      "/usr/local/lib/python3.11/dist-packages/torchvision/models/_utils.py:208: UserWarning: The parameter 'pretrained' is deprecated since 0.13 and may be removed in the future, please use 'weights' instead.\n",
      "  warnings.warn(\n",
      "/usr/local/lib/python3.11/dist-packages/torchvision/models/_utils.py:223: UserWarning: Arguments other than a weight enum or `None` for 'weights' are deprecated since 0.13 and may be removed in the future. The current behavior is equivalent to passing `weights=None`.\n",
      "  warnings.warn(msg)\n"
     ]
    },
    {
     "name": "stdout",
     "output_type": "stream",
     "text": [
      "Epoch [1/5], Loss: 47.8880, Accuracy: 96.86%\n",
      "Epoch [2/5], Loss: 19.5294, Accuracy: 98.77%\n",
      "Epoch [3/5], Loss: 14.7873, Accuracy: 99.06%\n",
      "Epoch [4/5], Loss: 10.8500, Accuracy: 99.28%\n",
      "Epoch [5/5], Loss: 10.5339, Accuracy: 99.31%\n"
     ]
    }
   ],
   "source": [
    "print(\"Training ResNet on MNIST\")\n",
    "model_resnet_mnist = ResNet(in_channels=1)\n",
    "accuracy_resnet_mnist, train_time_resnet_mnist = train_model(model_resnet_mnist, train_loader_mnist, test_loader_mnist, epochs=5)\n",
    "num_params_resnet_mnist = sum(p.numel() for p in model_resnet_mnist.parameters())"
   ]
  },
  {
   "cell_type": "code",
   "execution_count": null,
   "metadata": {
    "colab": {
     "base_uri": "https://localhost:8080/"
    },
    "id": "e9KOytv-qTb4",
    "outputId": "adeab013-bf03-45f6-9b87-71f8de989373"
   },
   "outputs": [
    {
     "name": "stdout",
     "output_type": "stream",
     "text": [
      "Training ResNet on CIFAR-10\n",
      "Epoch [1/5], Loss: 448.4437, Accuracy: 58.94%\n",
      "Epoch [2/5], Loss: 280.1619, Accuracy: 74.81%\n",
      "Epoch [3/5], Loss: 210.3057, Accuracy: 81.40%\n",
      "Epoch [4/5], Loss: 164.7681, Accuracy: 85.36%\n",
      "Epoch [5/5], Loss: 119.2963, Accuracy: 89.43%\n"
     ]
    }
   ],
   "source": [
    "print(\"Training ResNet on CIFAR-10\")\n",
    "model_resnet_cifar = ResNet(in_channels=3)\n",
    "accuracy_resnet_cifar, train_time_resnet_cifar = train_model(model_resnet_cifar, train_loader_cifar, test_loader_cifar, epochs=5)\n",
    "num_params_resnet_cifar = sum(p.numel() for p in model_resnet_cifar.parameters())\n"
   ]
  },
  {
   "cell_type": "code",
   "execution_count": null,
   "metadata": {
    "id": "8MwhEtILzSru"
   },
   "outputs": [],
   "source": [
    "from torchvision import transforms\n",
    "\n",
    "transform_mnist = transforms.Compose([\n",
    "    transforms.Resize((32, 32)),  # Resize to match AlexNet's expected size\n",
    "    transforms.ToTensor(),\n",
    "    transforms.Normalize((0.1307,), (0.3081,))\n",
    "])"
   ]
  },
  {
   "cell_type": "code",
   "execution_count": null,
   "metadata": {
    "id": "lfcSbdKWwUs9"
   },
   "outputs": [],
   "source": [
    "class AlexNet(nn.Module):\n",
    "    def __init__(self, in_channels=1, num_classes=10):\n",
    "        super(AlexNet, self).__init__()\n",
    "        self.features = nn.Sequential(\n",
    "            nn.Conv2d(in_channels, 64, kernel_size=3, stride=1, padding=1),\n",
    "            nn.ReLU(inplace=True),\n",
    "            nn.MaxPool2d(kernel_size=2, stride=2),\n",
    "\n",
    "            nn.Conv2d(64, 192, kernel_size=3, stride=1, padding=1),\n",
    "            nn.ReLU(inplace=True),\n",
    "            nn.MaxPool2d(kernel_size=2, stride=2),\n",
    "\n",
    "            nn.Conv2d(192, 384, kernel_size=3, stride=1, padding=1),\n",
    "            nn.ReLU(inplace=True),\n",
    "\n",
    "            nn.Conv2d(384, 256, kernel_size=3, stride=1, padding=1),\n",
    "            nn.ReLU(inplace=True),\n",
    "\n",
    "            nn.Conv2d(256, 256, kernel_size=3, stride=1, padding=1),\n",
    "            nn.ReLU(inplace=True),\n",
    "            nn.MaxPool2d(kernel_size=2, stride=2)\n",
    "        )\n",
    "\n",
    "        self.classifier = nn.Sequential(\n",
    "            nn.Dropout(),\n",
    "            nn.Linear(256 * 3 * 3, 4096),\n",
    "            nn.ReLU(inplace=True),\n",
    "            nn.Dropout(),\n",
    "            nn.Linear(4096, 4096),\n",
    "            nn.ReLU(inplace=True),\n",
    "            nn.Linear(4096, num_classes),\n",
    "        )\n",
    "\n",
    "    def forward(self, x):\n",
    "        x = self.features(x)\n",
    "        x = torch.flatten(x, 1)\n",
    "        x = self.classifier(x)\n",
    "        return x\n"
   ]
  },
  {
   "cell_type": "code",
   "execution_count": null,
   "metadata": {
    "id": "KR9z1zUlQxtm"
   },
   "outputs": [],
   "source": [
    "import torch\n",
    "import torch.nn as nn\n",
    "\n",
    "class AlexNet(nn.Module):\n",
    "    def __init__(self, in_channels=3, num_classes=10):\n",
    "        super(AlexNet, self).__init__()\n",
    "\n",
    "        self.features = nn.Sequential(\n",
    "            nn.Conv2d(in_channels, 64, kernel_size=3, stride=1, padding=1),\n",
    "            nn.ReLU(inplace=True),\n",
    "            nn.MaxPool2d(kernel_size=2, stride=2),  # Output size: 16x16\n",
    "\n",
    "            nn.Conv2d(64, 192, kernel_size=3, stride=1, padding=1),\n",
    "            nn.ReLU(inplace=True),\n",
    "            nn.MaxPool2d(kernel_size=2, stride=2),  # Output size: 8x8\n",
    "\n",
    "            nn.Conv2d(192, 384, kernel_size=3, stride=1, padding=1),\n",
    "            nn.ReLU(inplace=True),\n",
    "\n",
    "            nn.Conv2d(384, 256, kernel_size=3, stride=1, padding=1),\n",
    "            nn.ReLU(inplace=True),\n",
    "\n",
    "            nn.Conv2d(256, 256, kernel_size=3, stride=1, padding=1),\n",
    "            nn.ReLU(inplace=True),\n",
    "            nn.MaxPool2d(kernel_size=2, stride=2)  # Output size: 4x4\n",
    "        )\n",
    "\n",
    "        self.fc_input_dim = 256 * 4 * 4\n",
    "\n",
    "        self.classifier = nn.Sequential(\n",
    "            nn.Dropout(),\n",
    "            nn.Linear(self.fc_input_dim, 4096),\n",
    "            nn.ReLU(inplace=True),\n",
    "            nn.Dropout(),\n",
    "            nn.Linear(4096, 4096),\n",
    "            nn.ReLU(inplace=True),\n",
    "            nn.Linear(4096, num_classes),\n",
    "        )\n",
    "\n",
    "    def forward(self, x):\n",
    "        x = self.features(x)\n",
    "        x = torch.flatten(x, 1)\n",
    "        x = self.classifier(x)\n",
    "        return x\n",
    "\n",
    "\n",
    "model_cifar10 = AlexNet(in_channels=3, num_classes=10)\n"
   ]
  },
  {
   "cell_type": "code",
   "execution_count": null,
   "metadata": {
    "colab": {
     "base_uri": "https://localhost:8080/"
    },
    "id": "jn0hYkuBxKum",
    "outputId": "5ae885e4-3a76-4fa9-d480-e76add8c200a"
   },
   "outputs": [
    {
     "name": "stdout",
     "output_type": "stream",
     "text": [
      "Training AlexNet on MNIST\n",
      "Epoch [1/5], Loss: 181.2995, Accuracy: 86.60%\n",
      "Epoch [2/5], Loss: 32.2469, Accuracy: 98.11%\n",
      "Epoch [3/5], Loss: 24.1084, Accuracy: 98.54%\n",
      "Epoch [4/5], Loss: 21.1316, Accuracy: 98.81%\n",
      "Epoch [5/5], Loss: 19.3606, Accuracy: 98.89%\n"
     ]
    }
   ],
   "source": [
    "print(\"Training AlexNet on MNIST\")\n",
    "model_alexnet_mnist = AlexNet(in_channels=1)\n",
    "accuracy_alexnet_mnist, train_time_alexnet_mnist = train_model(model_alexnet_mnist, train_loader_mnist, test_loader_mnist, epochs=5)\n",
    "num_params_alexnet_mnist = sum(p.numel() for p in model_alexnet_mnist.parameters())\n"
   ]
  },
  {
   "cell_type": "code",
   "execution_count": null,
   "metadata": {
    "colab": {
     "base_uri": "https://localhost:8080/"
    },
    "id": "3l7U07drK4iS",
    "outputId": "27b83ea4-758a-47e1-89d1-892253503cd6"
   },
   "outputs": [
    {
     "name": "stdout",
     "output_type": "stream",
     "text": [
      "Training AlexNet on CIFAR-10\n",
      "Epoch [1/5], Loss: 639.4195, Accuracy: 38.23%\n",
      "Epoch [2/5], Loss: 461.7458, Accuracy: 57.18%\n",
      "Epoch [3/5], Loss: 379.3506, Accuracy: 65.80%\n",
      "Epoch [4/5], Loss: 323.9928, Accuracy: 71.05%\n",
      "Epoch [5/5], Loss: 287.6544, Accuracy: 74.60%\n"
     ]
    }
   ],
   "source": [
    "\n",
    "print(\"Training AlexNet on CIFAR-10\")\n",
    "model_alexnet_cifar = AlexNet(in_channels=3)\n",
    "accuracy_alexnet_cifar, train_time_alexnet_cifar = train_model(model_alexnet_cifar, train_loader_cifar, test_loader_cifar, epochs=5)\n",
    "num_params_alexnet_cifar = sum(p.numel() for p in model_alexnet_cifar.parameters())"
   ]
  },
  {
   "cell_type": "code",
   "execution_count": null,
   "metadata": {
    "id": "YEnP2Ee0vVSj"
   },
   "outputs": [],
   "source": [
    "import pandas as pd\n"
   ]
  },
  {
   "cell_type": "code",
   "execution_count": null,
   "metadata": {
    "colab": {
     "base_uri": "https://localhost:8080/"
    },
    "id": "gEhMIB3eqVaW",
    "outputId": "ab17289c-0321-44b8-ee02-901346a287b1"
   },
   "outputs": [
    {
     "name": "stdout",
     "output_type": "stream",
     "text": [
      "    Dataset    Model   Accuracy  Parameters  Training Time (s)\n",
      "0     MNIST  LeNet-5  97.601667       61706          64.002037\n",
      "1  CIFAR-10  LeNet-5  51.422000       83126          62.399046\n",
      "2     MNIST   ResNet  99.315000    11172810         144.525892\n",
      "3  CIFAR-10   ResNet  89.432000    11173962         130.485182\n",
      "4     MNIST  AlexNet  98.895000    28513994         125.151195\n",
      "5  CIFAR-10  AlexNet  74.600000    35855178         119.748351\n"
     ]
    }
   ],
   "source": [
    "results = [\n",
    "    (\"MNIST\", \"LeNet-5\", accuracy_mnist, num_params_mnist, train_time_mnist),\n",
    "    (\"CIFAR-10\", \"LeNet-5\", accuracy_cifar, num_params_cifar, train_time_cifar),\n",
    "    (\"MNIST\", \"ResNet\", accuracy_resnet_mnist, num_params_resnet_mnist, train_time_resnet_mnist),\n",
    "    (\"CIFAR-10\", \"ResNet\", accuracy_resnet_cifar, num_params_resnet_cifar, train_time_resnet_cifar),\n",
    "    (\"MNIST\", \"AlexNet\", accuracy_alexnet_mnist, num_params_alexnet_mnist, train_time_alexnet_mnist),\n",
    "    (\"CIFAR-10\", \"AlexNet\", accuracy_alexnet_cifar, num_params_alexnet_cifar, train_time_alexnet_cifar)\n",
    "]\n",
    "\n",
    "\n",
    "import pandas as pd\n",
    "result_df = pd.DataFrame(results, columns=[\"Dataset\", \"Model\", \"Accuracy\", \"Parameters\", \"Training Time (s)\"])\n",
    "\n",
    "\n",
    "print(result_df)\n"
   ]
  },
  {
   "cell_type": "code",
   "execution_count": null,
   "metadata": {
    "colab": {
     "base_uri": "https://localhost:8080/"
    },
    "id": "CdvThDc2wXZ0",
    "outputId": "b58208f3-9e6a-4546-deb3-3b33c8f5ad1c"
   },
   "outputs": [
    {
     "name": "stdout",
     "output_type": "stream",
     "text": [
      "    Dataset    Model  Accuracy  Parameters  Training Time (s)\n",
      "0     MNIST  AlexNet    98.895    28513994         125.151195\n",
      "1  CIFAR-10  AlexNet    74.600    35855178         119.748351\n"
     ]
    }
   ],
   "source": [
    "\n",
    "results_alexnet = [\n",
    "    (\"MNIST\", \"AlexNet\", accuracy_alexnet_mnist, num_params_alexnet_mnist, train_time_alexnet_mnist),\n",
    "    (\"CIFAR-10\", \"AlexNet\", accuracy_alexnet_cifar, num_params_alexnet_cifar, train_time_alexnet_cifar)\n",
    "]\n",
    "\n",
    "result_df_alexnet = pd.DataFrame(results_alexnet, columns=[\"Dataset\", \"Model\", \"Accuracy\", \"Parameters\", \"Training Time (s)\"])\n",
    "print(result_df_alexnet)\n"
   ]
  },
  {
   "cell_type": "markdown",
   "metadata": {
    "id": "6pjhq2yubYbo"
   },
   "source": [
    "1)  LeNet-5 (MNIST): 61,706 parameters\n",
    "\n",
    "LeNet-5 (CIFAR-10): 83,126 parameters\n",
    "\n",
    "ResNet (MNIST): 11,172,810 parameters\n",
    "\n",
    "ResNet (CIFAR-10): 11,173,962 parameters\n",
    "\n",
    "AlexNet (MNIST): 28,513,994 parameters\n",
    "\n",
    "AlexNet (CIFAR-10): 35,855,178 parameter"
   ]
  },
  {
   "cell_type": "markdown",
   "metadata": {
    "id": "srvjqKMTbcs2"
   },
   "source": [
    "2)\n",
    "As the number of parameters increases, there tends to be an improvement in accuracy, especially on more complex datasets like CIFAR-10."
   ]
  },
  {
   "cell_type": "markdown",
   "metadata": {
    "id": "1Pw_4166bi7n"
   },
   "source": [
    "3)\n",
    "due to its 3 color channels (RGB) and more varied image categories compared to the simple, grayscale MNIST dataset. This increased complexity makes it more challenging for models like LeNet-5 to achieve high accuracy, resulting in lower accuracy on CIFAR-10.\n",
    "\n",
    "With 3 channels (RGB), the model has to process more information per image, leading to an increase in training time. The training time is notably higher for models on CIFAR-10 than on MNIST, though the differences aren’t extreme"
   ]
  },
  {
   "cell_type": "markdown",
   "metadata": {
    "id": "ulNh8iBTcMbZ"
   },
   "source": [
    "4)\n",
    "More Parameters = Higher Accuracy: Larger models (ResNet, AlexNet)  achieved higher accuracy on both datasets. However, they come with a trade-off in terms of computation.\n",
    "\n",
    "Higher Accuracy = More Training Time: As the complexity of the model increases, so does the time required to train it."
   ]
  }
 ],
 "metadata": {
  "accelerator": "GPU",
  "colab": {
   "gpuType": "T4",
   "provenance": []
  },
  "kernelspec": {
   "display_name": "Python 3 (ipykernel)",
   "language": "python",
   "name": "python3"
  },
  "language_info": {
   "codemirror_mode": {
    "name": "ipython",
    "version": 3
   },
   "file_extension": ".py",
   "mimetype": "text/x-python",
   "name": "python",
   "nbconvert_exporter": "python",
   "pygments_lexer": "ipython3",
   "version": "3.12.3"
  }
 },
 "nbformat": 4,
 "nbformat_minor": 4
}
